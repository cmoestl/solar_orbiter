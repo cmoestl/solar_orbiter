{
 "cells": [
  {
   "cell_type": "markdown",
   "metadata": {},
   "source": [
    "#### 3DCORE ABC SMC fitting example\n",
    "\n",
    "output in /results/abc_runs"
   ]
  },
  {
   "cell_type": "code",
   "execution_count": 7,
   "metadata": {},
   "outputs": [
    {
     "name": "stdout",
     "output_type": "stream",
     "text": [
      "2.0.0\n",
      "0.6.0\n"
     ]
    }
   ],
   "source": [
    "from matplotlib import pyplot as plt\n",
    "import datetime\n",
    "import logging\n",
    "import numpy as np\n",
    "import pickle\n",
    "\n",
    "import py3dcore\n",
    "import heliosat\n",
    "\n",
    "print(py3dcore.__version__)\n",
    "print(heliosat.__version__)\n",
    "\n",
    "#from heliosat.coordinates import transform_pos\n",
    "#from heliosat.util import datetime_utc, datetime_utc_timestamp, datetime_to_string, sanitize_datetimes, string_to_datetime\n",
    "#from py3dcore.util import configure_logging, select_model\n",
    "\n",
    "#configure_logging(debug=False, logfile=None, verbose=True)\n",
    "#logging.getLogger(\"heliosat.spice\").setLevel(\"WARNING\")\n",
    "#logging.getLogger(\"heliosat.spacecraft\").setLevel(\"WARNING\")\n",
    "\n",
    "c0 = \"xkcd:black\"\n",
    "c1 = \"xkcd:magenta\"\n",
    "c2 = \"xkcd:orange\"\n",
    "c3 = \"xkcd:azure\""
   ]
  },
  {
   "cell_type": "code",
   "execution_count": 8,
   "metadata": {},
   "outputs": [],
   "source": [
    "class SOLO_EXTRA_APRIL(heliosat.SOLO):\n",
    "    \n",
    "    def get_data_raw(self, range_start, range_end, data_key, **kwargs):\n",
    "        \n",
    "        logger = logging.getLogger(__name__)\n",
    "        frame = kwargs.get(\"frame\")\n",
    "        data_key = self.resolve_data_key(data_key)\n",
    "        range_start = sanitize_datetimes(range_start)\n",
    "        range_end = sanitize_datetimes(range_end)\n",
    "        frame = kwargs.get(\"frame\", None)\n",
    "        frame_cadence = kwargs.get(\"frame_cadence\", None)\n",
    "        force_download = kwargs.get(\"force_download\", False)\n",
    "        _data = pickle.load(open(\"/nas/helio/data/insitu_python/solo_2020_june_july_rtn.p\", \"rb\"))\n",
    "        time_all = np.array([_[0].replace(tzinfo=datetime.timezone.utc) for _ in _data])\n",
    "        data_all = np.array([[_[1], _[2], _[3]] for _ in _data]).astype(np.float64)\n",
    "        tfilter = (time_all > range_start) & (time_all < range_end)\n",
    "        time_all = time_all[tfilter]\n",
    "        data_all = data_all[tfilter]\n",
    "        data_all =  transform_pos(time_all, data_all, \"SOLO_SUN_RTN\", frame)\n",
    "        time_all = np.array([_.timestamp() for _ in time_all])\n",
    "        \n",
    "        return time_all, data_all\n"
   ]
  },
  {
   "cell_type": "code",
   "execution_count": 9,
   "metadata": {},
   "outputs": [
    {
     "ename": "AttributeError",
     "evalue": "module 'py3dcore' has no attribute 'fitting'",
     "output_type": "error",
     "traceback": [
      "\u001b[0;31m---------------------------------------------------------------------------\u001b[0m",
      "\u001b[0;31mAttributeError\u001b[0m                            Traceback (most recent call last)",
      "\u001b[0;32m<ipython-input-9-ef0ddca1a8d3>\u001b[0m in \u001b[0;36m<module>\u001b[0;34m\u001b[0m\n\u001b[1;32m     37\u001b[0m \u001b[0;31m#]\u001b[0m\u001b[0;34m\u001b[0m\u001b[0;34m\u001b[0m\u001b[0;34m\u001b[0m\u001b[0m\n\u001b[1;32m     38\u001b[0m \u001b[0;34m\u001b[0m\u001b[0m\n\u001b[0;32m---> 39\u001b[0;31m \u001b[0mabcsmc\u001b[0m \u001b[0;34m=\u001b[0m \u001b[0mpy3dcore\u001b[0m\u001b[0;34m.\u001b[0m\u001b[0mfitting\u001b[0m\u001b[0;34m.\u001b[0m\u001b[0mABCSMC_v1\u001b[0m\u001b[0;34m(\u001b[0m\u001b[0;34m)\u001b[0m\u001b[0;34m\u001b[0m\u001b[0;34m\u001b[0m\u001b[0m\n\u001b[0m\u001b[1;32m     40\u001b[0m \u001b[0mabcsmc\u001b[0m\u001b[0;34m.\u001b[0m\u001b[0minit\u001b[0m\u001b[0;34m(\u001b[0m\u001b[0mt_launch\u001b[0m\u001b[0;34m,\u001b[0m \u001b[0mselect_model\u001b[0m\u001b[0;34m(\u001b[0m\u001b[0;34m\"TTGHv2\"\u001b[0m\u001b[0;34m)\u001b[0m\u001b[0;34m,\u001b[0m \u001b[0mseed\u001b[0m\u001b[0;34m=\u001b[0m\u001b[0;36m42\u001b[0m\u001b[0;34m)\u001b[0m\u001b[0;34m\u001b[0m\u001b[0;34m\u001b[0m\u001b[0m\n\u001b[1;32m     41\u001b[0m \u001b[0mabcsmc\u001b[0m\u001b[0;34m.\u001b[0m\u001b[0madd_observer\u001b[0m\u001b[0;34m(\u001b[0m\u001b[0mSOLO_EXTRA_APRIL\u001b[0m\u001b[0;34m,\u001b[0m \u001b[0mt_solo\u001b[0m\u001b[0;34m,\u001b[0m \u001b[0mt_s_solo\u001b[0m\u001b[0;34m,\u001b[0m \u001b[0mt_e_solo\u001b[0m\u001b[0;34m,\u001b[0m \u001b[0mdt\u001b[0m\u001b[0;34m=\u001b[0m\u001b[0;36m8\u001b[0m\u001b[0;34m,\u001b[0m \u001b[0mdd\u001b[0m\u001b[0;34m=\u001b[0m\u001b[0;36m1\u001b[0m\u001b[0;34m,\u001b[0m \u001b[0mdti\u001b[0m\u001b[0;34m=\u001b[0m\u001b[0;36m0\u001b[0m\u001b[0;34m)\u001b[0m\u001b[0;34m\u001b[0m\u001b[0;34m\u001b[0m\u001b[0m\n",
      "\u001b[0;31mAttributeError\u001b[0m: module 'py3dcore' has no attribute 'fitting'"
     ]
    }
   ],
   "source": [
    "# ALL PARAMS\n",
    "   \n",
    "t_launch = datetime.datetime(2020, 6, 2, 2, tzinfo=datetime.timezone.utc)\n",
    "t_s_solo = datetime.datetime(2020, 6, 7, 6, tzinfo=datetime.timezone.utc)\n",
    "t_e_solo = datetime.datetime(2020, 6, 8, 12, tzinfo=datetime.timezone.utc)\n",
    "t_solo = [\n",
    "    datetime.datetime(2020, 6, 7, 12, tzinfo=datetime.timezone.utc),\n",
    "    datetime.datetime(2020, 6, 7, 14, tzinfo=datetime.timezone.utc),\n",
    "    datetime.datetime(2020, 6, 7, 16, tzinfo=datetime.timezone.utc),\n",
    "    datetime.datetime(2020, 6, 7, 18, tzinfo=datetime.timezone.utc),\n",
    "    datetime.datetime(2020, 6, 8, 1, tzinfo=datetime.timezone.utc),\n",
    "    datetime.datetime(2020, 6, 8, 3, tzinfo=datetime.timezone.utc),\n",
    "    datetime.datetime(2020, 6, 8, 5, tzinfo=datetime.timezone.utc),\n",
    "    datetime.datetime(2020, 6, 8, 7, tzinfo=datetime.timezone.utc),\n",
    "    datetime.datetime(2020, 6, 8, 9, tzinfo=datetime.timezone.utc),\n",
    "    datetime.datetime(2020, 6, 8, 11, tzinfo=datetime.timezone.utc),\n",
    "]\n",
    "# FRONT PARAMS\n",
    "#t_s_solo = datetime.datetime(2020, 6, 7, 6, tzinfo=datetime.timezone.utc)\n",
    "#t_e_solo = datetime.datetime(2020, 6, 8, tzinfo=datetime.timezone.utc)\n",
    "#t_solo = [\n",
    "#    datetime.datetime(2020, 6, 7, 12, tzinfo=datetime.timezone.utc),\n",
    "#    datetime.datetime(2020, 6, 7, 14, tzinfo=datetime.timezone.utc),\n",
    "#    datetime.datetime(2020, 6, 7, 16, tzinfo=datetime.timezone.utc),\n",
    "#    datetime.datetime(2020, 6, 7, 18, tzinfo=datetime.timezone.utc),\n",
    "#]\n",
    "# BACK PARAMS\n",
    "#t_s_solo = datetime.datetime(2020, 6, 8, tzinfo=datetime.timezone.utc)\n",
    "#t_e_solo = datetime.datetime(2020, 6, 8, 12, tzinfo=datetime.timezone.utc)\n",
    "#t_solo = [\n",
    "#    datetime.datetime(2020, 6, 8, 1, tzinfo=datetime.timezone.utc),\n",
    "#    datetime.datetime(2020, 6, 8, 3, tzinfo=datetime.timezone.utc),\n",
    "#    datetime.datetime(2020, 6, 8, 5, tzinfo=datetime.timezone.utc),\n",
    "#    datetime.datetime(2020, 6, 8, 7, tzinfo=datetime.timezone.utc),\n",
    "#    datetime.datetime(2020, 6, 8, 9, tzinfo=datetime.timezone.utc),\n",
    "#    datetime.datetime(2020, 6, 8, 11, tzinfo=datetime.timezone.utc),\n",
    "#]\n",
    "\n",
    "abcsmc = py3dcore.fitting.ABCSMC_v1()\n",
    "abcsmc.init(t_launch, select_model(\"TTGHv2\"), seed=42)\n",
    "abcsmc.add_observer(SOLO_EXTRA_APRIL, t_solo, t_s_solo, t_e_solo, dt=8, dd=1, dti=0)\n",
    "abcsmc.param_minmax(\"cme_longitude\", 230, 320)\n",
    "\n",
    "#abcsmc.param_fix(\"cme_width_ratio\", 1)\n",
    "#abcsmc.param_minmax(\"cme_longitude\", 140, 320)\n",
    "#abcsmc.param_minmax(\"cme_aspect_ratio\", None , None, \"log-uniform\")\n",
    "#abcsmc.param_minmax(\"cme_diameter_1au\", None, None, \"log-uniform\")\n",
    "\n",
    "abcsmc.param_minmax(\"noise\", 0, 10)\n",
    "\n",
    "abcsmc.run(12, eps_quantile=.25, jobs=128,\n",
    "           kernel_mode=\"lcm\", output=\"results/abc_runs/june_full\", runs=16, \n",
    "           sub_iter_max=64, workers=128, particles=4 * 1024, summary=\"rmse\")\n"
   ]
  },
  {
   "cell_type": "code",
   "execution_count": null,
   "metadata": {},
   "outputs": [],
   "source": []
  }
 ],
 "metadata": {
  "kernelspec": {
   "display_name": "Python 3",
   "language": "python",
   "name": "python3"
  },
  "language_info": {
   "codemirror_mode": {
    "name": "ipython",
    "version": 3
   },
   "file_extension": ".py",
   "mimetype": "text/x-python",
   "name": "python",
   "nbconvert_exporter": "python",
   "pygments_lexer": "ipython3",
   "version": "3.7.6"
  }
 },
 "nbformat": 4,
 "nbformat_minor": 4
}
