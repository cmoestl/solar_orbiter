{
 "cells": [
  {
   "cell_type": "markdown",
   "metadata": {},
   "source": [
    "#### 3DCORE ABC SMC fitting example\n",
    "\n",
    "output in /results/abc_runs"
   ]
  },
  {
   "cell_type": "code",
   "execution_count": 2,
   "metadata": {},
   "outputs": [],
   "source": [
    "from matplotlib import pyplot as plt\n",
    "import datetime\n",
    "import logging\n",
    "import numpy as np\n",
    "import pickle\n",
    "\n",
    "import py3dcore\n",
    "import heliosat\n",
    "\n",
    "from heliosat.coordinates import transform_pos\n",
    "from heliosat.util import datetime_utc, datetime_utc_timestamp, datetime_to_string, sanitize_datetimes, string_to_datetime\n",
    "from py3dcore.util import configure_logging, select_model\n",
    "\n",
    "configure_logging(debug=False, logfile=None, verbose=True)\n",
    "logging.getLogger(\"heliosat.spice\").setLevel(\"WARNING\")\n",
    "logging.getLogger(\"heliosat.spacecraft\").setLevel(\"WARNING\")\n",
    "\n",
    "c0 = \"xkcd:black\"\n",
    "c1 = \"xkcd:magenta\"\n",
    "c2 = \"xkcd:orange\"\n",
    "c3 = \"xkcd:azure\""
   ]
  },
  {
   "cell_type": "code",
   "execution_count": 4,
   "metadata": {},
   "outputs": [],
   "source": [
    "class SOLO_EXTRA_APRIL(heliosat.SOLO):\n",
    "    \n",
    "    def get_data_raw(self, range_start, range_end, data_key, **kwargs):\n",
    "        \n",
    "        logger = logging.getLogger(__name__)\n",
    "        frame = kwargs.get(\"frame\")\n",
    "        data_key = self.resolve_data_key(data_key)\n",
    "        range_start = sanitize_datetimes(range_start)\n",
    "        range_end = sanitize_datetimes(range_end)\n",
    "        frame = kwargs.get(\"frame\", None)\n",
    "        frame_cadence = kwargs.get(\"frame_cadence\", None)\n",
    "        force_download = kwargs.get(\"force_download\", False)\n",
    "        _data = pickle.load(open(\"/nas/helio/data/insitu_python/solo_2020_june_july_rtn.p\", \"rb\"))\n",
    "        time_all = np.array([_[0].replace(tzinfo=datetime.timezone.utc) for _ in _data])\n",
    "        data_all = np.array([[_[1], _[2], _[3]] for _ in _data]).astype(np.float64)\n",
    "        tfilter = (time_all > range_start) & (time_all < range_end)\n",
    "        time_all = time_all[tfilter]\n",
    "        data_all = data_all[tfilter]\n",
    "        data_all =  transform_pos(time_all, data_all, \"SOLO_SUN_RTN\", frame)\n",
    "        time_all = np.array([_.timestamp() for _ in time_all])\n",
    "        \n",
    "        return time_all, data_all\n"
   ]
  },
  {
   "cell_type": "code",
   "execution_count": 7,
   "metadata": {},
   "outputs": [
    {
     "name": "stdout",
     "output_type": "stream",
     "text": [
      "2021-01-19 14:27:36,616 - py3dcore.fitting.methods.abcsmc_v1 - starting abc algorithm\n",
      "2021-01-19 14:27:36,616 - py3dcore.fitting.methods.abcsmc_v1 - starting abc algorithm\n",
      "2021-01-19 14:27:36,617 - py3dcore.fitting.methods.abcsmc_v1 - starting iteration 0\n",
      "2021-01-19 14:27:36,617 - py3dcore.fitting.methods.abcsmc_v1 - starting iteration 0\n",
      "2021-01-19 14:27:36,620 - py3dcore.fitting.methods.abcsmc_v1 - obs 0 marker offset set to 8.0 hours\n",
      "2021-01-19 14:27:36,620 - py3dcore.fitting.methods.abcsmc_v1 - obs 0 marker offset set to 8.0 hours\n",
      "2021-01-19 14:27:36,626 - py3dcore.fitting.methods.abcsmc_v1 - initial eps_0 = 20.58nT\n",
      "2021-01-19 14:27:36,626 - py3dcore.fitting.methods.abcsmc_v1 - initial eps_0 = 20.58nT\n"
     ]
    },
    {
     "ename": "IndexError",
     "evalue": "index 12 is out of bounds for axis 0 with size 12",
     "output_type": "error",
     "traceback": [
      "\u001b[0;31m---------------------------------------------------------------------------\u001b[0m",
      "\u001b[0;31mRemoteTraceback\u001b[0m                           Traceback (most recent call last)",
      "\u001b[0;31mRemoteTraceback\u001b[0m: \n\"\"\"\nTraceback (most recent call last):\n  File \"/home/cmoestl/miniconda/envs/cmesig/lib/python3.7/multiprocessing/pool.py\", line 121, in worker\n    result = (True, func(*args, **kwds))\n  File \"/home/cmoestl/miniconda/envs/cmesig/lib/python3.7/multiprocessing/pool.py\", line 47, in starmapstar\n    return list(itertools.starmap(args[0], args[1]))\n  File \"/home/cmoestl/miniconda/envs/cmesig/lib/python3.7/site-packages/py3dcore/fitting/methods/abcsmc_v1.py\", line 432, in abcsmc_worker\n    error = sumstat(profiles, b_data_all, mask=m_data_all)\n  File \"/home/cmoestl/miniconda/envs/cmesig/lib/python3.7/site-packages/py3dcore/fitting/methods/summary.py\", line 35, in rmse\n    _error_rmse(values[i], reference[i], mask[i], rmse)\nIndexError: index 12 is out of bounds for axis 0 with size 12\n\"\"\"",
      "\nThe above exception was the direct cause of the following exception:\n",
      "\u001b[0;31mIndexError\u001b[0m                                Traceback (most recent call last)",
      "\u001b[0;32m<ipython-input-7-ef0ddca1a8d3>\u001b[0m in \u001b[0;36m<module>\u001b[0;34m\u001b[0m\n\u001b[1;32m     51\u001b[0m abcsmc.run(12, eps_quantile=.25, jobs=128,\n\u001b[1;32m     52\u001b[0m            \u001b[0mkernel_mode\u001b[0m\u001b[0;34m=\u001b[0m\u001b[0;34m\"lcm\"\u001b[0m\u001b[0;34m,\u001b[0m \u001b[0moutput\u001b[0m\u001b[0;34m=\u001b[0m\u001b[0;34m\"results/abc_runs/june_full\"\u001b[0m\u001b[0;34m,\u001b[0m \u001b[0mruns\u001b[0m\u001b[0;34m=\u001b[0m\u001b[0;36m16\u001b[0m\u001b[0;34m,\u001b[0m\u001b[0;34m\u001b[0m\u001b[0;34m\u001b[0m\u001b[0m\n\u001b[0;32m---> 53\u001b[0;31m            sub_iter_max=64, workers=128, particles=4 * 1024, summary=\"rmse\")\n\u001b[0m",
      "\u001b[0;32m~/miniconda/envs/cmesig/lib/python3.7/site-packages/py3dcore/fitting/methods/abcsmc_v1.py\u001b[0m in \u001b[0;36mrun\u001b[0;34m(self, iter_end, particles, **kwargs)\u001b[0m\n\u001b[1;32m    266\u001b[0m             ]\n\u001b[1;32m    267\u001b[0m \u001b[0;34m\u001b[0m\u001b[0m\n\u001b[0;32m--> 268\u001b[0;31m             \u001b[0m_results\u001b[0m \u001b[0;34m=\u001b[0m \u001b[0mpool\u001b[0m\u001b[0;34m.\u001b[0m\u001b[0mstarmap\u001b[0m\u001b[0;34m(\u001b[0m\u001b[0mabcsmc_worker\u001b[0m\u001b[0;34m,\u001b[0m \u001b[0;34m[\u001b[0m\u001b[0;34m(\u001b[0m\u001b[0;34m*\u001b[0m\u001b[0mabcsmc_args\u001b[0m\u001b[0;34m,\u001b[0m \u001b[0mrseed\u001b[0m \u001b[0;34m+\u001b[0m \u001b[0mi\u001b[0m\u001b[0;34m)\u001b[0m \u001b[0;32mfor\u001b[0m \u001b[0mi\u001b[0m \u001b[0;32min\u001b[0m \u001b[0mrange\u001b[0m\u001b[0;34m(\u001b[0m\u001b[0mjobs\u001b[0m\u001b[0;34m)\u001b[0m\u001b[0;34m]\u001b[0m\u001b[0;34m)\u001b[0m\u001b[0;34m\u001b[0m\u001b[0;34m\u001b[0m\u001b[0m\n\u001b[0m\u001b[1;32m    269\u001b[0m \u001b[0;34m\u001b[0m\u001b[0m\n\u001b[1;32m    270\u001b[0m             \u001b[0mtotal_runs\u001b[0m \u001b[0;34m=\u001b[0m \u001b[0mjobs\u001b[0m \u001b[0;34m*\u001b[0m \u001b[0mint\u001b[0m\u001b[0;34m(\u001b[0m\u001b[0;36m2\u001b[0m\u001b[0;34m**\u001b[0m\u001b[0mruns\u001b[0m\u001b[0;34m)\u001b[0m\u001b[0;34m\u001b[0m\u001b[0;34m\u001b[0m\u001b[0m\n",
      "\u001b[0;32m~/miniconda/envs/cmesig/lib/python3.7/multiprocessing/pool.py\u001b[0m in \u001b[0;36mstarmap\u001b[0;34m(self, func, iterable, chunksize)\u001b[0m\n\u001b[1;32m    274\u001b[0m         \u001b[0;31m`\u001b[0m\u001b[0mfunc\u001b[0m\u001b[0;31m`\u001b[0m \u001b[0;32mand\u001b[0m \u001b[0;34m(\u001b[0m\u001b[0ma\u001b[0m\u001b[0;34m,\u001b[0m \u001b[0mb\u001b[0m\u001b[0;34m)\u001b[0m \u001b[0mbecomes\u001b[0m \u001b[0mfunc\u001b[0m\u001b[0;34m(\u001b[0m\u001b[0ma\u001b[0m\u001b[0;34m,\u001b[0m \u001b[0mb\u001b[0m\u001b[0;34m)\u001b[0m\u001b[0;34m.\u001b[0m\u001b[0;34m\u001b[0m\u001b[0;34m\u001b[0m\u001b[0m\n\u001b[1;32m    275\u001b[0m         '''\n\u001b[0;32m--> 276\u001b[0;31m         \u001b[0;32mreturn\u001b[0m \u001b[0mself\u001b[0m\u001b[0;34m.\u001b[0m\u001b[0m_map_async\u001b[0m\u001b[0;34m(\u001b[0m\u001b[0mfunc\u001b[0m\u001b[0;34m,\u001b[0m \u001b[0miterable\u001b[0m\u001b[0;34m,\u001b[0m \u001b[0mstarmapstar\u001b[0m\u001b[0;34m,\u001b[0m \u001b[0mchunksize\u001b[0m\u001b[0;34m)\u001b[0m\u001b[0;34m.\u001b[0m\u001b[0mget\u001b[0m\u001b[0;34m(\u001b[0m\u001b[0;34m)\u001b[0m\u001b[0;34m\u001b[0m\u001b[0;34m\u001b[0m\u001b[0m\n\u001b[0m\u001b[1;32m    277\u001b[0m \u001b[0;34m\u001b[0m\u001b[0m\n\u001b[1;32m    278\u001b[0m     def starmap_async(self, func, iterable, chunksize=None, callback=None,\n",
      "\u001b[0;32m~/miniconda/envs/cmesig/lib/python3.7/multiprocessing/pool.py\u001b[0m in \u001b[0;36mget\u001b[0;34m(self, timeout)\u001b[0m\n\u001b[1;32m    655\u001b[0m             \u001b[0;32mreturn\u001b[0m \u001b[0mself\u001b[0m\u001b[0;34m.\u001b[0m\u001b[0m_value\u001b[0m\u001b[0;34m\u001b[0m\u001b[0;34m\u001b[0m\u001b[0m\n\u001b[1;32m    656\u001b[0m         \u001b[0;32melse\u001b[0m\u001b[0;34m:\u001b[0m\u001b[0;34m\u001b[0m\u001b[0;34m\u001b[0m\u001b[0m\n\u001b[0;32m--> 657\u001b[0;31m             \u001b[0;32mraise\u001b[0m \u001b[0mself\u001b[0m\u001b[0;34m.\u001b[0m\u001b[0m_value\u001b[0m\u001b[0;34m\u001b[0m\u001b[0;34m\u001b[0m\u001b[0m\n\u001b[0m\u001b[1;32m    658\u001b[0m \u001b[0;34m\u001b[0m\u001b[0m\n\u001b[1;32m    659\u001b[0m     \u001b[0;32mdef\u001b[0m \u001b[0m_set\u001b[0m\u001b[0;34m(\u001b[0m\u001b[0mself\u001b[0m\u001b[0;34m,\u001b[0m \u001b[0mi\u001b[0m\u001b[0;34m,\u001b[0m \u001b[0mobj\u001b[0m\u001b[0;34m)\u001b[0m\u001b[0;34m:\u001b[0m\u001b[0;34m\u001b[0m\u001b[0;34m\u001b[0m\u001b[0m\n",
      "\u001b[0;31mIndexError\u001b[0m: index 12 is out of bounds for axis 0 with size 12"
     ]
    }
   ],
   "source": [
    "# ALL PARAMS\n",
    "   \n",
    "t_launch = datetime.datetime(2020, 6, 2, 2, tzinfo=datetime.timezone.utc)\n",
    "t_s_solo = datetime.datetime(2020, 6, 7, 6, tzinfo=datetime.timezone.utc)\n",
    "t_e_solo = datetime.datetime(2020, 6, 8, 12, tzinfo=datetime.timezone.utc)\n",
    "t_solo = [\n",
    "    datetime.datetime(2020, 6, 7, 12, tzinfo=datetime.timezone.utc),\n",
    "    datetime.datetime(2020, 6, 7, 14, tzinfo=datetime.timezone.utc),\n",
    "    datetime.datetime(2020, 6, 7, 16, tzinfo=datetime.timezone.utc),\n",
    "    datetime.datetime(2020, 6, 7, 18, tzinfo=datetime.timezone.utc),\n",
    "    datetime.datetime(2020, 6, 8, 1, tzinfo=datetime.timezone.utc),\n",
    "    datetime.datetime(2020, 6, 8, 3, tzinfo=datetime.timezone.utc),\n",
    "    datetime.datetime(2020, 6, 8, 5, tzinfo=datetime.timezone.utc),\n",
    "    datetime.datetime(2020, 6, 8, 7, tzinfo=datetime.timezone.utc),\n",
    "    datetime.datetime(2020, 6, 8, 9, tzinfo=datetime.timezone.utc),\n",
    "    datetime.datetime(2020, 6, 8, 11, tzinfo=datetime.timezone.utc),\n",
    "]\n",
    "# FRONT PARAMS\n",
    "#t_s_solo = datetime.datetime(2020, 6, 7, 6, tzinfo=datetime.timezone.utc)\n",
    "#t_e_solo = datetime.datetime(2020, 6, 8, tzinfo=datetime.timezone.utc)\n",
    "#t_solo = [\n",
    "#    datetime.datetime(2020, 6, 7, 12, tzinfo=datetime.timezone.utc),\n",
    "#    datetime.datetime(2020, 6, 7, 14, tzinfo=datetime.timezone.utc),\n",
    "#    datetime.datetime(2020, 6, 7, 16, tzinfo=datetime.timezone.utc),\n",
    "#    datetime.datetime(2020, 6, 7, 18, tzinfo=datetime.timezone.utc),\n",
    "#]\n",
    "# BACK PARAMS\n",
    "#t_s_solo = datetime.datetime(2020, 6, 8, tzinfo=datetime.timezone.utc)\n",
    "#t_e_solo = datetime.datetime(2020, 6, 8, 12, tzinfo=datetime.timezone.utc)\n",
    "#t_solo = [\n",
    "#    datetime.datetime(2020, 6, 8, 1, tzinfo=datetime.timezone.utc),\n",
    "#    datetime.datetime(2020, 6, 8, 3, tzinfo=datetime.timezone.utc),\n",
    "#    datetime.datetime(2020, 6, 8, 5, tzinfo=datetime.timezone.utc),\n",
    "#    datetime.datetime(2020, 6, 8, 7, tzinfo=datetime.timezone.utc),\n",
    "#    datetime.datetime(2020, 6, 8, 9, tzinfo=datetime.timezone.utc),\n",
    "#    datetime.datetime(2020, 6, 8, 11, tzinfo=datetime.timezone.utc),\n",
    "#]\n",
    "\n",
    "abcsmc = py3dcore.fitting.ABCSMC_v1()\n",
    "abcsmc.init(t_launch, select_model(\"TTGHv2\"), seed=42)\n",
    "abcsmc.add_observer(SOLO_EXTRA_APRIL, t_solo, t_s_solo, t_e_solo, dt=8, dd=1, dti=0)\n",
    "abcsmc.param_minmax(\"cme_longitude\", 230, 320)\n",
    "\n",
    "#abcsmc.param_fix(\"cme_width_ratio\", 1)\n",
    "#abcsmc.param_minmax(\"cme_longitude\", 140, 320)\n",
    "#abcsmc.param_minmax(\"cme_aspect_ratio\", None , None, \"log-uniform\")\n",
    "#abcsmc.param_minmax(\"cme_diameter_1au\", None, None, \"log-uniform\")\n",
    "\n",
    "abcsmc.param_minmax(\"noise\", 0, 10)\n",
    "\n",
    "abcsmc.run(12, eps_quantile=.25, jobs=128,\n",
    "           kernel_mode=\"lcm\", output=\"results/abc_runs/june_full\", runs=16, \n",
    "           sub_iter_max=64, workers=128, particles=4 * 1024, summary=\"rmse\")\n"
   ]
  },
  {
   "cell_type": "code",
   "execution_count": null,
   "metadata": {},
   "outputs": [],
   "source": []
  }
 ],
 "metadata": {
  "kernelspec": {
   "display_name": "Python 3",
   "language": "python",
   "name": "python3"
  },
  "language_info": {
   "codemirror_mode": {
    "name": "ipython",
    "version": 3
   },
   "file_extension": ".py",
   "mimetype": "text/x-python",
   "name": "python",
   "nbconvert_exporter": "python",
   "pygments_lexer": "ipython3",
   "version": "3.7.6"
  }
 },
 "nbformat": 4,
 "nbformat_minor": 4
}
